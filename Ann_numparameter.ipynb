{
  "nbformat": 4,
  "nbformat_minor": 0,
  "metadata": {
    "colab": {
      "provenance": [],
      "authorship_tag": "ABX9TyMGIUC+1knkLupcQ1fmIeBy",
      "include_colab_link": true
    },
    "kernelspec": {
      "name": "python3",
      "display_name": "Python 3"
    },
    "language_info": {
      "name": "python"
    }
  },
  "cells": [
    {
      "cell_type": "markdown",
      "metadata": {
        "id": "view-in-github",
        "colab_type": "text"
      },
      "source": [
        "<a href=\"https://colab.research.google.com/github/avishek-astra/Deep_Learning_Experiments/blob/main/Ann_numparameter.ipynb\" target=\"_parent\"><img src=\"https://colab.research.google.com/assets/colab-badge.svg\" alt=\"Open In Colab\"/></a>"
      ]
    },
    {
      "cell_type": "code",
      "execution_count": 1,
      "metadata": {
        "id": "HiVri14ZXpVF"
      },
      "outputs": [],
      "source": [
        "import numpy as np\n",
        "import torch\n",
        "import torch.nn as nn"
      ]
    },
    {
      "cell_type": "code",
      "source": [
        "#build two models\n",
        "widenet=nn.Sequential(\n",
        "    nn.Linear(2,4), #hidden layer\n",
        "    nn.Linear(4,3), #outputlayer\n",
        "    )\n",
        "deepnet=nn.Sequential(\n",
        "    nn.Linear(2,2),#hidden layer\n",
        "    nn.Linear(2,2),#hidden layer\n",
        "    nn.Linear(2,3), #output layer\n",
        "    )\n",
        "#print them out to have a look\n",
        "print(widenet)\n",
        "print('')\n",
        "print(deepnet)"
      ],
      "metadata": {
        "colab": {
          "base_uri": "https://localhost:8080/"
        },
        "id": "_PXSeSkAYMLg",
        "outputId": "d372b015-66e6-4b55-f5c0-1f27059470d6"
      },
      "execution_count": 3,
      "outputs": [
        {
          "output_type": "stream",
          "name": "stdout",
          "text": [
            "Sequential(\n",
            "  (0): Linear(in_features=2, out_features=4, bias=True)\n",
            "  (1): Linear(in_features=4, out_features=3, bias=True)\n",
            ")\n",
            "\n",
            "Sequential(\n",
            "  (0): Linear(in_features=2, out_features=2, bias=True)\n",
            "  (1): Linear(in_features=2, out_features=2, bias=True)\n",
            "  (2): Linear(in_features=2, out_features=3, bias=True)\n",
            ")\n"
          ]
        }
      ]
    },
    {
      "cell_type": "markdown",
      "source": [
        "Peeking inside the network"
      ],
      "metadata": {
        "id": "4IUBsiv4ZiHA"
      }
    },
    {
      "cell_type": "code",
      "source": [
        "#check out the parameters\n",
        "for p in deepnet.named_parameters():\n",
        "  print(p)\n",
        "  print(' ')"
      ],
      "metadata": {
        "colab": {
          "base_uri": "https://localhost:8080/"
        },
        "id": "5ODnpVtCZrOF",
        "outputId": "3217128e-e786-46c9-d0f1-2ee66b714922"
      },
      "execution_count": 4,
      "outputs": [
        {
          "output_type": "stream",
          "name": "stdout",
          "text": [
            "('0.weight', Parameter containing:\n",
            "tensor([[ 0.6404, -0.0179],\n",
            "        [ 0.0342, -0.4927]], requires_grad=True))\n",
            " \n",
            "('0.bias', Parameter containing:\n",
            "tensor([-0.6988,  0.6361], requires_grad=True))\n",
            " \n",
            "('1.weight', Parameter containing:\n",
            "tensor([[0.1981, 0.6578],\n",
            "        [0.3084, 0.6681]], requires_grad=True))\n",
            " \n",
            "('1.bias', Parameter containing:\n",
            "tensor([-0.5172,  0.5833], requires_grad=True))\n",
            " \n",
            "('2.weight', Parameter containing:\n",
            "tensor([[-0.2397,  0.4025],\n",
            "        [ 0.4643,  0.1822],\n",
            "        [ 0.5651, -0.1735]], requires_grad=True))\n",
            " \n",
            "('2.bias', Parameter containing:\n",
            "tensor([-0.0761, -0.2351,  0.5509], requires_grad=True))\n",
            " \n"
          ]
        }
      ]
    },
    {
      "cell_type": "code",
      "source": [
        "#count the number of nodes(= the number of baises)\n",
        "#named_parameters() is an iterable that returns the tuple(name, numbers)\n",
        "numNodesInWide=0\n",
        "for p in widenet.named_parameters():\n",
        "  if 'bias' in p[0]: #p[0] the name of the parameter (string)\n",
        "    numNodesInWide+=len(p[1]) #p[1]the parameter value (tensor)\n",
        "numNodesInDeep=0\n",
        "for p in deepnet.named_parameters():\n",
        "  if 'bias' in p[0]:\n",
        "    numNodesInDeep+=len(p[1])\n",
        "print('THERE are %s node is wide network.'%numNodesInWide)\n",
        "print('THERE are %s node is deep network.'%numNodesInDeep)"
      ],
      "metadata": {
        "colab": {
          "base_uri": "https://localhost:8080/"
        },
        "id": "yEtwIEp5Z1rb",
        "outputId": "9e6416d0-549f-4b7a-b381-f21094ab5c5e"
      },
      "execution_count": 5,
      "outputs": [
        {
          "output_type": "stream",
          "name": "stdout",
          "text": [
            "THERE are 7 node is wide network.\n",
            "THERE are 7 node is deep network.\n"
          ]
        }
      ]
    },
    {
      "cell_type": "code",
      "source": [
        "#just the parameters\n",
        "for p in widenet.parameters():\n",
        "  print(p)\n",
        "  print(' ')"
      ],
      "metadata": {
        "colab": {
          "base_uri": "https://localhost:8080/"
        },
        "id": "maZRwNTab6e2",
        "outputId": "5ee84a61-ad67-466e-db7a-8fe8d61e54da"
      },
      "execution_count": 6,
      "outputs": [
        {
          "output_type": "stream",
          "name": "stdout",
          "text": [
            "Parameter containing:\n",
            "tensor([[-0.4012, -0.6508],\n",
            "        [ 0.3156,  0.1606],\n",
            "        [ 0.4066, -0.6197],\n",
            "        [-0.4352,  0.1362]], requires_grad=True)\n",
            " \n",
            "Parameter containing:\n",
            "tensor([-0.1738,  0.0256, -0.2756,  0.6550], requires_grad=True)\n",
            " \n",
            "Parameter containing:\n",
            "tensor([[-0.2745,  0.3337, -0.0679,  0.0418],\n",
            "        [-0.2155, -0.0312, -0.3987,  0.3577],\n",
            "        [ 0.1124, -0.0528, -0.3524,  0.0894]], requires_grad=True)\n",
            " \n",
            "Parameter containing:\n",
            "tensor([0.1124, 0.2497, 0.2023], requires_grad=True)\n",
            " \n"
          ]
        }
      ]
    },
    {
      "cell_type": "code",
      "source": [
        "#now count the total number of trainable parameters\n",
        "nparams=0\n",
        "for p in widenet.parameters():\n",
        "  if p.requires_grad:\n",
        "    print(\"This piece has %s parameters\"%p.numel())\n",
        "    nparams+=p.numel()\n",
        "print('\\n\\n Total of %s parameters'%nparams)"
      ],
      "metadata": {
        "colab": {
          "base_uri": "https://localhost:8080/"
        },
        "id": "YysgdRN-cDbF",
        "outputId": "a95bf4a3-121c-4a24-f599-cac28fe17f5b"
      },
      "execution_count": 7,
      "outputs": [
        {
          "output_type": "stream",
          "name": "stdout",
          "text": [
            "This piece has 8 parameters\n",
            "This piece has 4 parameters\n",
            "This piece has 12 parameters\n",
            "This piece has 3 parameters\n",
            "\n",
            "\n",
            " Total of 27 parameters\n"
          ]
        }
      ]
    },
    {
      "cell_type": "code",
      "source": [
        "#A nice simple way to print out the model info.\n",
        "from torchsummary import summary\n",
        "summary(widenet,(1,2))"
      ],
      "metadata": {
        "colab": {
          "base_uri": "https://localhost:8080/"
        },
        "id": "0Bx-CfZ0dQMx",
        "outputId": "c845799f-efd6-40b2-c390-66c7f7449d8a"
      },
      "execution_count": 8,
      "outputs": [
        {
          "output_type": "stream",
          "name": "stdout",
          "text": [
            "----------------------------------------------------------------\n",
            "        Layer (type)               Output Shape         Param #\n",
            "================================================================\n",
            "            Linear-1                 [-1, 1, 4]              12\n",
            "            Linear-2                 [-1, 1, 3]              15\n",
            "================================================================\n",
            "Total params: 27\n",
            "Trainable params: 27\n",
            "Non-trainable params: 0\n",
            "----------------------------------------------------------------\n",
            "Input size (MB): 0.00\n",
            "Forward/backward pass size (MB): 0.00\n",
            "Params size (MB): 0.00\n",
            "Estimated Total Size (MB): 0.00\n",
            "----------------------------------------------------------------\n"
          ]
        }
      ]
    },
    {
      "cell_type": "code",
      "source": [],
      "metadata": {
        "id": "papDtd_hduKd"
      },
      "execution_count": null,
      "outputs": []
    }
  ]
}