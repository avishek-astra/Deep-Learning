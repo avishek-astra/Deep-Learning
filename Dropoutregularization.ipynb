{
  "nbformat": 4,
  "nbformat_minor": 0,
  "metadata": {
    "colab": {
      "provenance": [],
      "authorship_tag": "ABX9TyNhQPwiR+TDSJbrChw2z80R",
      "include_colab_link": true
    },
    "kernelspec": {
      "name": "python3",
      "display_name": "Python 3"
    },
    "language_info": {
      "name": "python"
    }
  },
  "cells": [
    {
      "cell_type": "markdown",
      "metadata": {
        "id": "view-in-github",
        "colab_type": "text"
      },
      "source": [
        "<a href=\"https://colab.research.google.com/github/avishek-astra/Deep_Learning_Experiments/blob/main/Dropoutregularization.ipynb\" target=\"_parent\"><img src=\"https://colab.research.google.com/assets/colab-badge.svg\" alt=\"Open In Colab\"/></a>"
      ]
    },
    {
      "cell_type": "code",
      "execution_count": 1,
      "metadata": {
        "id": "fuMk50R8b70Z"
      },
      "outputs": [],
      "source": [
        "#import libraries\n",
        "import torch\n",
        "import torch.nn as nn\n",
        "import torch.nn.functional as F"
      ]
    },
    {
      "cell_type": "markdown",
      "source": [
        "Using dropout"
      ],
      "metadata": {
        "id": "jOiNLkH-cwQq"
      }
    },
    {
      "cell_type": "code",
      "source": [
        "#define a dropout instance and make some data\n",
        "prob=0.5\n",
        "dropout=nn.Dropout(p=prob)\n",
        "x=torch.ones(10)\n",
        "#let's see what dropout return returns\n",
        "print(x)\n",
        "y=dropout(x)\n",
        "print(y)\n",
        "print(torch.mean(y))"
      ],
      "metadata": {
        "colab": {
          "base_uri": "https://localhost:8080/"
        },
        "id": "VaEghYr4cWE9",
        "outputId": "b0b8a75c-097b-42d4-8d07-504ddd7481cf"
      },
      "execution_count": 12,
      "outputs": [
        {
          "output_type": "stream",
          "name": "stdout",
          "text": [
            "tensor([1., 1., 1., 1., 1., 1., 1., 1., 1., 1.])\n",
            "tensor([2., 0., 0., 2., 0., 2., 2., 0., 0., 2.])\n",
            "tensor(1.)\n"
          ]
        }
      ]
    },
    {
      "cell_type": "code",
      "source": [
        "#dropout is turned off when evaluating the model\n",
        "dropout.eval()\n",
        "y=dropout(x)\n",
        "print(y)\n",
        "print(torch.mean(y))"
      ],
      "metadata": {
        "colab": {
          "base_uri": "https://localhost:8080/"
        },
        "id": "vfM22TkAdImh",
        "outputId": "520570de-5dd2-4e4d-df53-a125601ba197"
      },
      "execution_count": 13,
      "outputs": [
        {
          "output_type": "stream",
          "name": "stdout",
          "text": [
            "tensor([1., 1., 1., 1., 1., 1., 1., 1., 1., 1.])\n",
            "tensor(1.)\n"
          ]
        }
      ]
    },
    {
      "cell_type": "code",
      "source": [
        "#annoyingly, F.dropout() is not activated in eval mode:\n",
        "dropout.eval()\n",
        "y=F.dropout(x)\n",
        "print(y)\n",
        "print(torch.mean(y))"
      ],
      "metadata": {
        "colab": {
          "base_uri": "https://localhost:8080/"
        },
        "id": "rMF908HseCSC",
        "outputId": "b2d55e72-84f1-4120-b1bf-6eea1ec46da9"
      },
      "execution_count": 14,
      "outputs": [
        {
          "output_type": "stream",
          "name": "stdout",
          "text": [
            "tensor([0., 2., 0., 2., 0., 0., 2., 2., 0., 2.])\n",
            "tensor(1.)\n"
          ]
        }
      ]
    },
    {
      "cell_type": "code",
      "source": [
        "#but you can manually switch it off\n",
        "dropout.eval()\n",
        "y=F.dropout(x, training=False)\n",
        "print(y)\n",
        "print(torch.mean(y))\n"
      ],
      "metadata": {
        "colab": {
          "base_uri": "https://localhost:8080/"
        },
        "id": "26HZuQJmePVt",
        "outputId": "95a01d2d-2742-444d-ab08-514dc90fd4b2"
      },
      "execution_count": 15,
      "outputs": [
        {
          "output_type": "stream",
          "name": "stdout",
          "text": [
            "tensor([1., 1., 1., 1., 1., 1., 1., 1., 1., 1.])\n",
            "tensor(1.)\n"
          ]
        }
      ]
    },
    {
      "cell_type": "code",
      "source": [
        "#the model needs to be reset after toggling into eval mode\n",
        "dropout.train()\n",
        "y=dropout(x)\n",
        "print(y) #with dropout\n",
        "dropout.eval()\n",
        "y=dropout(x)\n",
        "print(y) #without dropout\n",
        "dropout.train()\n",
        "y=dropout(x)\n",
        "print(y) #with dropout"
      ],
      "metadata": {
        "colab": {
          "base_uri": "https://localhost:8080/"
        },
        "id": "AKutPfxWeZN_",
        "outputId": "404fc85b-bfee-49d7-c6a4-66277d3a0d8a"
      },
      "execution_count": 17,
      "outputs": [
        {
          "output_type": "stream",
          "name": "stdout",
          "text": [
            "tensor([2., 2., 2., 2., 2., 2., 2., 0., 2., 0.])\n",
            "tensor([1., 1., 1., 1., 1., 1., 1., 1., 1., 1.])\n",
            "tensor([2., 2., 0., 2., 0., 2., 0., 2., 2., 2.])\n"
          ]
        }
      ]
    },
    {
      "cell_type": "code",
      "source": [],
      "metadata": {
        "id": "HfqLd9yBes1D"
      },
      "execution_count": null,
      "outputs": []
    }
  ]
}