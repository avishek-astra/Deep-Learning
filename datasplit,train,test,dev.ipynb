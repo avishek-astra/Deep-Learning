{
  "nbformat": 4,
  "nbformat_minor": 0,
  "metadata": {
    "colab": {
      "provenance": [],
      "authorship_tag": "ABX9TyPNgpL537Rn9OZI7kcNI28i",
      "include_colab_link": true
    },
    "kernelspec": {
      "name": "python3",
      "display_name": "Python 3"
    },
    "language_info": {
      "name": "python"
    }
  },
  "cells": [
    {
      "cell_type": "markdown",
      "metadata": {
        "id": "view-in-github",
        "colab_type": "text"
      },
      "source": [
        "<a href=\"https://colab.research.google.com/github/avishek-astra/Deep_Learning_Experiments/blob/main/datasplit%2Ctrain%2Ctest%2Cdev.ipynb\" target=\"_parent\"><img src=\"https://colab.research.google.com/assets/colab-badge.svg\" alt=\"Open In Colab\"/></a>"
      ]
    },
    {
      "cell_type": "code",
      "execution_count": 1,
      "metadata": {
        "colab": {
          "base_uri": "https://localhost:8080/"
        },
        "id": "ifYnqpT0Nqw3",
        "outputId": "97c1863d-38e9-431b-e904-1f76aa1c935c"
      },
      "outputs": [
        {
          "output_type": "stream",
          "name": "stderr",
          "text": [
            "<ipython-input-1-167363004367>:7: DeprecationWarning: `set_matplotlib_formats` is deprecated since IPython 7.23, directly use `matplotlib_inline.backend_inline.set_matplotlib_formats()`\n",
            "  display.set_matplotlib_formats('svg')\n"
          ]
        }
      ],
      "source": [
        "import numpy as np\n",
        "#importing libraries\n",
        "import torch\n",
        "import torch.nn as nn\n",
        "import matplotlib.pyplot as plt\n",
        "from IPython import display\n",
        "display.set_matplotlib_formats('svg')\n",
        "#NEW!\n",
        "from sklearn.model_selection import train_test_split"
      ]
    },
    {
      "cell_type": "code",
      "source": [
        "#create our fake dataset\n",
        "fakedata=np.tile(np.array([1,2,3,4]),(10,1))+np.tile(10*np.arange(1,11),(4,1)).T\n",
        "fakelabels=np.arange(10)>4\n",
        "print(fakedata),print(' ')\n",
        "print(fakelabels)"
      ],
      "metadata": {
        "colab": {
          "base_uri": "https://localhost:8080/"
        },
        "id": "FAEvRR_oOE59",
        "outputId": "d3e8b766-d86d-4db7-c5e8-e6a5be700358"
      },
      "execution_count": 2,
      "outputs": [
        {
          "output_type": "stream",
          "name": "stdout",
          "text": [
            "[[ 11  12  13  14]\n",
            " [ 21  22  23  24]\n",
            " [ 31  32  33  34]\n",
            " [ 41  42  43  44]\n",
            " [ 51  52  53  54]\n",
            " [ 61  62  63  64]\n",
            " [ 71  72  73  74]\n",
            " [ 81  82  83  84]\n",
            " [ 91  92  93  94]\n",
            " [101 102 103 104]]\n",
            " \n",
            "[False False False False False  True  True  True  True  True]\n"
          ]
        }
      ]
    },
    {
      "cell_type": "code",
      "source": [
        "#specify sizes of the partitions\n",
        "#order is train, devset, test\n",
        "partitions=[.8,.1,.1]\n",
        "#split the data( note the third input, and the TMP in the variable name)\n",
        "train_data,testTMP_data,train_labels,testTMP_labels=train_test_split(fakedata,fakelabels,train_size=partitions[0])\n",
        "#now split the TMP data\n",
        "split=partitions[1]/(partitions[1]+partitions[2])\n",
        "devset_data,test_data,devset_labels,test_labels=train_test_split(testTMP_data,testTMP_labels,train_size=split)\n",
        "#print out the train/test data\n",
        "print('Training data: ')\n",
        "print(train_data)\n",
        "print(' ')\n",
        "print('Devset data: ')\n",
        "print(devset_data)\n",
        "print(' ')\n",
        "print('Test data: ')\n",
        "print(test_data)"
      ],
      "metadata": {
        "colab": {
          "base_uri": "https://localhost:8080/"
        },
        "id": "Lg8LrSZ9OLHq",
        "outputId": "1639b457-3dcb-4789-dc76-dd40f2129433"
      },
      "execution_count": 4,
      "outputs": [
        {
          "output_type": "stream",
          "name": "stdout",
          "text": [
            "Training data: \n",
            "[[ 21  22  23  24]\n",
            " [101 102 103 104]\n",
            " [ 31  32  33  34]\n",
            " [ 41  42  43  44]\n",
            " [ 81  82  83  84]\n",
            " [ 51  52  53  54]\n",
            " [ 11  12  13  14]\n",
            " [ 61  62  63  64]]\n",
            " \n",
            "Devset data: \n",
            "[[71 72 73 74]]\n",
            " \n",
            "Test data: \n",
            "[[91 92 93 94]]\n"
          ]
        }
      ]
    },
    {
      "cell_type": "code",
      "source": [],
      "metadata": {
        "id": "yBYZTdJPPvj1"
      },
      "execution_count": null,
      "outputs": []
    }
  ]
}